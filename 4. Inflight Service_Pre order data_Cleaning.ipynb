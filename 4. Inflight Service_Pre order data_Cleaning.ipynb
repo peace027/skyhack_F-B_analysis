{
 "cells": [
  {
   "cell_type": "code",
   "execution_count": 1,
   "id": "0f8b50b2-4091-43cf-ad57-de6f4759b3d0",
   "metadata": {
    "tags": []
   },
   "outputs": [],
   "source": [
    "import pandas as pd\n",
    "import numpy as np"
   ]
  },
  {
   "cell_type": "code",
   "execution_count": 2,
   "id": "09e073f0-d4b5-418a-825c-f47ec2f4574f",
   "metadata": {
    "tags": []
   },
   "outputs": [
    {
     "data": {
      "text/html": [
       "<div>\n",
       "<style scoped>\n",
       "    .dataframe tbody tr th:only-of-type {\n",
       "        vertical-align: middle;\n",
       "    }\n",
       "\n",
       "    .dataframe tbody tr th {\n",
       "        vertical-align: top;\n",
       "    }\n",
       "\n",
       "    .dataframe thead th {\n",
       "        text-align: right;\n",
       "    }\n",
       "</style>\n",
       "<table border=\"1\" class=\"dataframe\">\n",
       "  <thead>\n",
       "    <tr style=\"text-align: right;\">\n",
       "      <th></th>\n",
       "      <th>flight_number</th>\n",
       "      <th>departure_station_code</th>\n",
       "      <th>arrival_station_code</th>\n",
       "      <th>record_locator</th>\n",
       "      <th>carrier_code</th>\n",
       "      <th>scheduled_departure_dtl</th>\n",
       "      <th>cabin_code</th>\n",
       "      <th>meal_group</th>\n",
       "      <th>meal_category</th>\n",
       "      <th>meal_short_description</th>\n",
       "      <th>meal_description</th>\n",
       "      <th>is_entree</th>\n",
       "      <th>pre_order_qty</th>\n",
       "    </tr>\n",
       "  </thead>\n",
       "  <tbody>\n",
       "    <tr>\n",
       "      <th>0</th>\n",
       "      <td>1423</td>\n",
       "      <td>INX</td>\n",
       "      <td>DEX</td>\n",
       "      <td>B3XX1H</td>\n",
       "      <td>UA</td>\n",
       "      <td>9/1/2022</td>\n",
       "      <td>J</td>\n",
       "      <td>ENTREES HOT</td>\n",
       "      <td>POULTRY</td>\n",
       "      <td>Za'atar chicken with spinach, roasted peppers,...</td>\n",
       "      <td>Za'atar chicken with spinach, roasted peppers,...</td>\n",
       "      <td>Y</td>\n",
       "      <td>1</td>\n",
       "    </tr>\n",
       "    <tr>\n",
       "      <th>1</th>\n",
       "      <td>1620</td>\n",
       "      <td>IAX</td>\n",
       "      <td>CUX</td>\n",
       "      <td>BFXXJC</td>\n",
       "      <td>UA</td>\n",
       "      <td>9/2/2022</td>\n",
       "      <td>J</td>\n",
       "      <td>ENTREES HOT</td>\n",
       "      <td>BREAKFAST</td>\n",
       "      <td>Tomato and kale baked egg</td>\n",
       "      <td>Tomato and kale baked egg with fire roasted re...</td>\n",
       "      <td>Y</td>\n",
       "      <td>2</td>\n",
       "    </tr>\n",
       "    <tr>\n",
       "      <th>2</th>\n",
       "      <td>1852</td>\n",
       "      <td>ORX</td>\n",
       "      <td>PDX</td>\n",
       "      <td>DPXX2H</td>\n",
       "      <td>UA</td>\n",
       "      <td>9/2/2022</td>\n",
       "      <td>J</td>\n",
       "      <td>ENTREES HOT</td>\n",
       "      <td>BREAKFAST</td>\n",
       "      <td>Tomato and kale baked egg</td>\n",
       "      <td>Tomato and kale baked egg with fire roasted re...</td>\n",
       "      <td>Y</td>\n",
       "      <td>1</td>\n",
       "    </tr>\n",
       "    <tr>\n",
       "      <th>3</th>\n",
       "      <td>548</td>\n",
       "      <td>IAX</td>\n",
       "      <td>SFX</td>\n",
       "      <td>ELXX8H</td>\n",
       "      <td>UA</td>\n",
       "      <td>9/2/2022</td>\n",
       "      <td>J</td>\n",
       "      <td>ENTREES HOT</td>\n",
       "      <td>BREAKFAST</td>\n",
       "      <td>Scrambled eggs</td>\n",
       "      <td>Scrambled eggs with ham, onion and peppers</td>\n",
       "      <td>Y</td>\n",
       "      <td>2</td>\n",
       "    </tr>\n",
       "    <tr>\n",
       "      <th>4</th>\n",
       "      <td>1155</td>\n",
       "      <td>IAX</td>\n",
       "      <td>CUX</td>\n",
       "      <td>NCXX4S</td>\n",
       "      <td>UA</td>\n",
       "      <td>9/2/2022</td>\n",
       "      <td>J</td>\n",
       "      <td>ENTREES HOT</td>\n",
       "      <td>BREAKFAST</td>\n",
       "      <td>Belgium waffle</td>\n",
       "      <td>Belgium waffle with bourbon banana fosters sau...</td>\n",
       "      <td>Y</td>\n",
       "      <td>2</td>\n",
       "    </tr>\n",
       "    <tr>\n",
       "      <th>...</th>\n",
       "      <td>...</td>\n",
       "      <td>...</td>\n",
       "      <td>...</td>\n",
       "      <td>...</td>\n",
       "      <td>...</td>\n",
       "      <td>...</td>\n",
       "      <td>...</td>\n",
       "      <td>...</td>\n",
       "      <td>...</td>\n",
       "      <td>...</td>\n",
       "      <td>...</td>\n",
       "      <td>...</td>\n",
       "      <td>...</td>\n",
       "    </tr>\n",
       "    <tr>\n",
       "      <th>212034</th>\n",
       "      <td>2189</td>\n",
       "      <td>DEX</td>\n",
       "      <td>FLX</td>\n",
       "      <td>PDXXCY</td>\n",
       "      <td>UA</td>\n",
       "      <td>9/14/2022</td>\n",
       "      <td>Y</td>\n",
       "      <td>UNITED CATERER OWNED 88-3F</td>\n",
       "      <td>SNACKS</td>\n",
       "      <td>SkinnyDipped® Lemon Bliss Almonds</td>\n",
       "      <td>NaN</td>\n",
       "      <td>N</td>\n",
       "      <td>1</td>\n",
       "    </tr>\n",
       "    <tr>\n",
       "      <th>212035</th>\n",
       "      <td>1618</td>\n",
       "      <td>LAX</td>\n",
       "      <td>ORX</td>\n",
       "      <td>KZXXFK</td>\n",
       "      <td>UA</td>\n",
       "      <td>9/14/2022</td>\n",
       "      <td>Y</td>\n",
       "      <td>NaN</td>\n",
       "      <td>NaN</td>\n",
       "      <td>Sparkling Wine</td>\n",
       "      <td>NaN</td>\n",
       "      <td>NaN</td>\n",
       "      <td>1</td>\n",
       "    </tr>\n",
       "    <tr>\n",
       "      <th>212036</th>\n",
       "      <td>1498</td>\n",
       "      <td>SFX</td>\n",
       "      <td>IAX</td>\n",
       "      <td>O3XX7J</td>\n",
       "      <td>UA</td>\n",
       "      <td>9/11/2022</td>\n",
       "      <td>Y</td>\n",
       "      <td>ALCOHOL BEVERAGES</td>\n",
       "      <td>GENERIC INT WINE A</td>\n",
       "      <td>Red Wine</td>\n",
       "      <td>Red Wine 187ml</td>\n",
       "      <td>N</td>\n",
       "      <td>1</td>\n",
       "    </tr>\n",
       "    <tr>\n",
       "      <th>212037</th>\n",
       "      <td>1830</td>\n",
       "      <td>EWX</td>\n",
       "      <td>SFX</td>\n",
       "      <td>BQXXYW</td>\n",
       "      <td>UA</td>\n",
       "      <td>9/14/2022</td>\n",
       "      <td>Y</td>\n",
       "      <td>LIQUOR</td>\n",
       "      <td>LIQUOR</td>\n",
       "      <td>Buffalo Trace</td>\n",
       "      <td>NaN</td>\n",
       "      <td>N</td>\n",
       "      <td>1</td>\n",
       "    </tr>\n",
       "    <tr>\n",
       "      <th>212038</th>\n",
       "      <td>2237</td>\n",
       "      <td>ORX</td>\n",
       "      <td>DEX</td>\n",
       "      <td>FJXX14</td>\n",
       "      <td>UA</td>\n",
       "      <td>9/30/2022</td>\n",
       "      <td>J</td>\n",
       "      <td>ENTREES HOT</td>\n",
       "      <td>POULTRY</td>\n",
       "      <td>Za’atar chicken</td>\n",
       "      <td>NaN</td>\n",
       "      <td>Y</td>\n",
       "      <td>1</td>\n",
       "    </tr>\n",
       "  </tbody>\n",
       "</table>\n",
       "<p>212039 rows × 13 columns</p>\n",
       "</div>"
      ],
      "text/plain": [
       "        flight_number departure_station_code arrival_station_code  \\\n",
       "0                1423                    INX                  DEX   \n",
       "1                1620                    IAX                  CUX   \n",
       "2                1852                    ORX                  PDX   \n",
       "3                 548                    IAX                  SFX   \n",
       "4                1155                    IAX                  CUX   \n",
       "...               ...                    ...                  ...   \n",
       "212034           2189                    DEX                  FLX   \n",
       "212035           1618                    LAX                  ORX   \n",
       "212036           1498                    SFX                  IAX   \n",
       "212037           1830                    EWX                  SFX   \n",
       "212038           2237                    ORX                  DEX   \n",
       "\n",
       "       record_locator carrier_code scheduled_departure_dtl cabin_code  \\\n",
       "0              B3XX1H           UA                9/1/2022          J   \n",
       "1              BFXXJC           UA                9/2/2022          J   \n",
       "2              DPXX2H           UA                9/2/2022          J   \n",
       "3              ELXX8H           UA                9/2/2022          J   \n",
       "4              NCXX4S           UA                9/2/2022          J   \n",
       "...               ...          ...                     ...        ...   \n",
       "212034         PDXXCY           UA               9/14/2022          Y   \n",
       "212035         KZXXFK           UA               9/14/2022          Y   \n",
       "212036         O3XX7J           UA               9/11/2022          Y   \n",
       "212037         BQXXYW           UA               9/14/2022          Y   \n",
       "212038         FJXX14           UA               9/30/2022          J   \n",
       "\n",
       "                        meal_group       meal_category  \\\n",
       "0                      ENTREES HOT             POULTRY   \n",
       "1                      ENTREES HOT           BREAKFAST   \n",
       "2                      ENTREES HOT           BREAKFAST   \n",
       "3                      ENTREES HOT           BREAKFAST   \n",
       "4                      ENTREES HOT           BREAKFAST   \n",
       "...                            ...                 ...   \n",
       "212034  UNITED CATERER OWNED 88-3F              SNACKS   \n",
       "212035                         NaN                 NaN   \n",
       "212036           ALCOHOL BEVERAGES  GENERIC INT WINE A   \n",
       "212037                      LIQUOR              LIQUOR   \n",
       "212038                 ENTREES HOT             POULTRY   \n",
       "\n",
       "                                   meal_short_description  \\\n",
       "0       Za'atar chicken with spinach, roasted peppers,...   \n",
       "1                               Tomato and kale baked egg   \n",
       "2                               Tomato and kale baked egg   \n",
       "3                                          Scrambled eggs   \n",
       "4                                          Belgium waffle   \n",
       "...                                                   ...   \n",
       "212034                  SkinnyDipped® Lemon Bliss Almonds   \n",
       "212035                                     Sparkling Wine   \n",
       "212036                                           Red Wine   \n",
       "212037                                      Buffalo Trace   \n",
       "212038                                    Za’atar chicken   \n",
       "\n",
       "                                         meal_description is_entree  \\\n",
       "0       Za'atar chicken with spinach, roasted peppers,...         Y   \n",
       "1       Tomato and kale baked egg with fire roasted re...         Y   \n",
       "2       Tomato and kale baked egg with fire roasted re...         Y   \n",
       "3              Scrambled eggs with ham, onion and peppers         Y   \n",
       "4       Belgium waffle with bourbon banana fosters sau...         Y   \n",
       "...                                                   ...       ...   \n",
       "212034                                                NaN         N   \n",
       "212035                                                NaN       NaN   \n",
       "212036                                     Red Wine 187ml         N   \n",
       "212037                                                NaN         N   \n",
       "212038                                                NaN         Y   \n",
       "\n",
       "        pre_order_qty  \n",
       "0                   1  \n",
       "1                   2  \n",
       "2                   1  \n",
       "3                   2  \n",
       "4                   2  \n",
       "...               ...  \n",
       "212034              1  \n",
       "212035              1  \n",
       "212036              1  \n",
       "212037              1  \n",
       "212038              1  \n",
       "\n",
       "[212039 rows x 13 columns]"
      ]
     },
     "execution_count": 2,
     "metadata": {},
     "output_type": "execute_result"
    }
   ],
   "source": [
    "# pd4 stands for Inflight Service: Pre order data which is fourth table.\n",
    "pd4=pd.read_csv(\"Inflight Service_Pre order data.csv\")\n",
    "pd4"
   ]
  },
  {
   "cell_type": "code",
   "execution_count": 3,
   "id": "856881bb-051e-4400-91b8-cc0bd83570fc",
   "metadata": {
    "tags": []
   },
   "outputs": [
    {
     "name": "stdout",
     "output_type": "stream",
     "text": [
      "<class 'pandas.core.frame.DataFrame'>\n",
      "RangeIndex: 212039 entries, 0 to 212038\n",
      "Data columns (total 13 columns):\n",
      " #   Column                   Non-Null Count   Dtype \n",
      "---  ------                   --------------   ----- \n",
      " 0   flight_number            212039 non-null  int64 \n",
      " 1   departure_station_code   212039 non-null  object\n",
      " 2   arrival_station_code     212039 non-null  object\n",
      " 3   record_locator           212039 non-null  object\n",
      " 4   carrier_code             212039 non-null  object\n",
      " 5   scheduled_departure_dtl  212039 non-null  object\n",
      " 6   cabin_code               212039 non-null  object\n",
      " 7   meal_group               191728 non-null  object\n",
      " 8   meal_category            191728 non-null  object\n",
      " 9   meal_short_description   212039 non-null  object\n",
      " 10  meal_description         137062 non-null  object\n",
      " 11  is_entree                191728 non-null  object\n",
      " 12  pre_order_qty            212039 non-null  int64 \n",
      "dtypes: int64(2), object(11)\n",
      "memory usage: 21.0+ MB\n"
     ]
    }
   ],
   "source": [
    "pd4.info()"
   ]
  },
  {
   "cell_type": "code",
   "execution_count": 4,
   "id": "9dc1b592-258a-4346-9e77-63b00f7df74a",
   "metadata": {
    "tags": []
   },
   "outputs": [
    {
     "data": {
      "text/html": [
       "<div>\n",
       "<style scoped>\n",
       "    .dataframe tbody tr th:only-of-type {\n",
       "        vertical-align: middle;\n",
       "    }\n",
       "\n",
       "    .dataframe tbody tr th {\n",
       "        vertical-align: top;\n",
       "    }\n",
       "\n",
       "    .dataframe thead th {\n",
       "        text-align: right;\n",
       "    }\n",
       "</style>\n",
       "<table border=\"1\" class=\"dataframe\">\n",
       "  <thead>\n",
       "    <tr style=\"text-align: right;\">\n",
       "      <th></th>\n",
       "      <th>flight_number</th>\n",
       "      <th>pre_order_qty</th>\n",
       "    </tr>\n",
       "  </thead>\n",
       "  <tbody>\n",
       "    <tr>\n",
       "      <th>count</th>\n",
       "      <td>212039.000000</td>\n",
       "      <td>212039.000000</td>\n",
       "    </tr>\n",
       "    <tr>\n",
       "      <th>mean</th>\n",
       "      <td>1454.631634</td>\n",
       "      <td>1.200902</td>\n",
       "    </tr>\n",
       "    <tr>\n",
       "      <th>std</th>\n",
       "      <td>726.394631</td>\n",
       "      <td>0.854160</td>\n",
       "    </tr>\n",
       "    <tr>\n",
       "      <th>min</th>\n",
       "      <td>2.000000</td>\n",
       "      <td>0.000000</td>\n",
       "    </tr>\n",
       "    <tr>\n",
       "      <th>25%</th>\n",
       "      <td>732.000000</td>\n",
       "      <td>1.000000</td>\n",
       "    </tr>\n",
       "    <tr>\n",
       "      <th>50%</th>\n",
       "      <td>1556.000000</td>\n",
       "      <td>1.000000</td>\n",
       "    </tr>\n",
       "    <tr>\n",
       "      <th>75%</th>\n",
       "      <td>2090.000000</td>\n",
       "      <td>1.000000</td>\n",
       "    </tr>\n",
       "    <tr>\n",
       "      <th>max</th>\n",
       "      <td>2685.000000</td>\n",
       "      <td>44.000000</td>\n",
       "    </tr>\n",
       "  </tbody>\n",
       "</table>\n",
       "</div>"
      ],
      "text/plain": [
       "       flight_number  pre_order_qty\n",
       "count  212039.000000  212039.000000\n",
       "mean     1454.631634       1.200902\n",
       "std       726.394631       0.854160\n",
       "min         2.000000       0.000000\n",
       "25%       732.000000       1.000000\n",
       "50%      1556.000000       1.000000\n",
       "75%      2090.000000       1.000000\n",
       "max      2685.000000      44.000000"
      ]
     },
     "execution_count": 4,
     "metadata": {},
     "output_type": "execute_result"
    }
   ],
   "source": [
    "pd4.describe()"
   ]
  },
  {
   "cell_type": "code",
   "execution_count": 5,
   "id": "07aa2605-8427-40d4-b585-f402e466b90b",
   "metadata": {
    "tags": []
   },
   "outputs": [
    {
     "data": {
      "text/plain": [
       "flight_number                  0\n",
       "departure_station_code         0\n",
       "arrival_station_code           0\n",
       "record_locator                 0\n",
       "carrier_code                   0\n",
       "scheduled_departure_dtl        0\n",
       "cabin_code                     0\n",
       "meal_group                 20311\n",
       "meal_category              20311\n",
       "meal_short_description         0\n",
       "meal_description           74977\n",
       "is_entree                  20311\n",
       "pre_order_qty                  0\n",
       "dtype: int64"
      ]
     },
     "execution_count": 5,
     "metadata": {},
     "output_type": "execute_result"
    }
   ],
   "source": [
    "pd4.isnull().sum()"
   ]
  },
  {
   "cell_type": "code",
   "execution_count": 6,
   "id": "6f64237f-4626-4d08-a9e9-829e9bae8bd1",
   "metadata": {
    "tags": []
   },
   "outputs": [
    {
     "data": {
      "text/html": [
       "<div>\n",
       "<style scoped>\n",
       "    .dataframe tbody tr th:only-of-type {\n",
       "        vertical-align: middle;\n",
       "    }\n",
       "\n",
       "    .dataframe tbody tr th {\n",
       "        vertical-align: top;\n",
       "    }\n",
       "\n",
       "    .dataframe thead th {\n",
       "        text-align: right;\n",
       "    }\n",
       "</style>\n",
       "<table border=\"1\" class=\"dataframe\">\n",
       "  <thead>\n",
       "    <tr style=\"text-align: right;\">\n",
       "      <th></th>\n",
       "      <th>flight_number</th>\n",
       "      <th>departure_station_code</th>\n",
       "      <th>arrival_station_code</th>\n",
       "      <th>record_locator</th>\n",
       "      <th>carrier_code</th>\n",
       "      <th>scheduled_departure_dtl</th>\n",
       "      <th>cabin_code</th>\n",
       "      <th>meal_group</th>\n",
       "      <th>meal_category</th>\n",
       "      <th>meal_short_description</th>\n",
       "      <th>meal_description</th>\n",
       "      <th>is_entree</th>\n",
       "      <th>pre_order_qty</th>\n",
       "    </tr>\n",
       "  </thead>\n",
       "  <tbody>\n",
       "    <tr>\n",
       "      <th>345</th>\n",
       "      <td>418</td>\n",
       "      <td>LAX</td>\n",
       "      <td>OGX</td>\n",
       "      <td>G5XXCN</td>\n",
       "      <td>UA</td>\n",
       "      <td>9/3/2022</td>\n",
       "      <td>Y</td>\n",
       "      <td>NaN</td>\n",
       "      <td>NaN</td>\n",
       "      <td>Sparkling Wine</td>\n",
       "      <td>NaN</td>\n",
       "      <td>NaN</td>\n",
       "      <td>4</td>\n",
       "    </tr>\n",
       "    <tr>\n",
       "      <th>347</th>\n",
       "      <td>2359</td>\n",
       "      <td>IAX</td>\n",
       "      <td>SAX</td>\n",
       "      <td>A3XXB1</td>\n",
       "      <td>UA</td>\n",
       "      <td>9/3/2022</td>\n",
       "      <td>J</td>\n",
       "      <td>NaN</td>\n",
       "      <td>NaN</td>\n",
       "      <td>I will decide onboard</td>\n",
       "      <td>NaN</td>\n",
       "      <td>NaN</td>\n",
       "      <td>0</td>\n",
       "    </tr>\n",
       "    <tr>\n",
       "      <th>354</th>\n",
       "      <td>1539</td>\n",
       "      <td>ORX</td>\n",
       "      <td>TPX</td>\n",
       "      <td>OZXXEJ</td>\n",
       "      <td>UA</td>\n",
       "      <td>9/2/2022</td>\n",
       "      <td>J</td>\n",
       "      <td>NaN</td>\n",
       "      <td>NaN</td>\n",
       "      <td>I will decide onboard</td>\n",
       "      <td>NaN</td>\n",
       "      <td>NaN</td>\n",
       "      <td>0</td>\n",
       "    </tr>\n",
       "    <tr>\n",
       "      <th>359</th>\n",
       "      <td>2000</td>\n",
       "      <td>SFX</td>\n",
       "      <td>DEX</td>\n",
       "      <td>MXXX5Z</td>\n",
       "      <td>UA</td>\n",
       "      <td>9/3/2022</td>\n",
       "      <td>J</td>\n",
       "      <td>NaN</td>\n",
       "      <td>NaN</td>\n",
       "      <td>I will decide onboard</td>\n",
       "      <td>NaN</td>\n",
       "      <td>NaN</td>\n",
       "      <td>0</td>\n",
       "    </tr>\n",
       "    <tr>\n",
       "      <th>371</th>\n",
       "      <td>529</td>\n",
       "      <td>ORX</td>\n",
       "      <td>SFX</td>\n",
       "      <td>AKXXXH</td>\n",
       "      <td>UA</td>\n",
       "      <td>9/20/2022</td>\n",
       "      <td>J</td>\n",
       "      <td>NaN</td>\n",
       "      <td>NaN</td>\n",
       "      <td>I will decide onboard</td>\n",
       "      <td>NaN</td>\n",
       "      <td>NaN</td>\n",
       "      <td>0</td>\n",
       "    </tr>\n",
       "    <tr>\n",
       "      <th>...</th>\n",
       "      <td>...</td>\n",
       "      <td>...</td>\n",
       "      <td>...</td>\n",
       "      <td>...</td>\n",
       "      <td>...</td>\n",
       "      <td>...</td>\n",
       "      <td>...</td>\n",
       "      <td>...</td>\n",
       "      <td>...</td>\n",
       "      <td>...</td>\n",
       "      <td>...</td>\n",
       "      <td>...</td>\n",
       "      <td>...</td>\n",
       "    </tr>\n",
       "    <tr>\n",
       "      <th>212020</th>\n",
       "      <td>677</td>\n",
       "      <td>EWX</td>\n",
       "      <td>AUX</td>\n",
       "      <td>E6XX61</td>\n",
       "      <td>UA</td>\n",
       "      <td>9/28/2022</td>\n",
       "      <td>J</td>\n",
       "      <td>NaN</td>\n",
       "      <td>NaN</td>\n",
       "      <td>I will decide onboard</td>\n",
       "      <td>NaN</td>\n",
       "      <td>NaN</td>\n",
       "      <td>0</td>\n",
       "    </tr>\n",
       "    <tr>\n",
       "      <th>212026</th>\n",
       "      <td>1829</td>\n",
       "      <td>MCX</td>\n",
       "      <td>ORX</td>\n",
       "      <td>AEXXVC</td>\n",
       "      <td>UA</td>\n",
       "      <td>9/10/2022</td>\n",
       "      <td>J</td>\n",
       "      <td>NaN</td>\n",
       "      <td>NaN</td>\n",
       "      <td>I will decide onboard</td>\n",
       "      <td>NaN</td>\n",
       "      <td>NaN</td>\n",
       "      <td>0</td>\n",
       "    </tr>\n",
       "    <tr>\n",
       "      <th>212028</th>\n",
       "      <td>717</td>\n",
       "      <td>BUX</td>\n",
       "      <td>DEX</td>\n",
       "      <td>A9XXWB</td>\n",
       "      <td>UA</td>\n",
       "      <td>9/11/2022</td>\n",
       "      <td>J</td>\n",
       "      <td>NaN</td>\n",
       "      <td>NaN</td>\n",
       "      <td>I will decide onboard</td>\n",
       "      <td>NaN</td>\n",
       "      <td>NaN</td>\n",
       "      <td>0</td>\n",
       "    </tr>\n",
       "    <tr>\n",
       "      <th>212030</th>\n",
       "      <td>2347</td>\n",
       "      <td>SFX</td>\n",
       "      <td>DFX</td>\n",
       "      <td>F1XXY1</td>\n",
       "      <td>UA</td>\n",
       "      <td>9/11/2022</td>\n",
       "      <td>J</td>\n",
       "      <td>NaN</td>\n",
       "      <td>NaN</td>\n",
       "      <td>I will decide onboard</td>\n",
       "      <td>NaN</td>\n",
       "      <td>NaN</td>\n",
       "      <td>0</td>\n",
       "    </tr>\n",
       "    <tr>\n",
       "      <th>212035</th>\n",
       "      <td>1618</td>\n",
       "      <td>LAX</td>\n",
       "      <td>ORX</td>\n",
       "      <td>KZXXFK</td>\n",
       "      <td>UA</td>\n",
       "      <td>9/14/2022</td>\n",
       "      <td>Y</td>\n",
       "      <td>NaN</td>\n",
       "      <td>NaN</td>\n",
       "      <td>Sparkling Wine</td>\n",
       "      <td>NaN</td>\n",
       "      <td>NaN</td>\n",
       "      <td>1</td>\n",
       "    </tr>\n",
       "  </tbody>\n",
       "</table>\n",
       "<p>20311 rows × 13 columns</p>\n",
       "</div>"
      ],
      "text/plain": [
       "        flight_number departure_station_code arrival_station_code  \\\n",
       "345               418                    LAX                  OGX   \n",
       "347              2359                    IAX                  SAX   \n",
       "354              1539                    ORX                  TPX   \n",
       "359              2000                    SFX                  DEX   \n",
       "371               529                    ORX                  SFX   \n",
       "...               ...                    ...                  ...   \n",
       "212020            677                    EWX                  AUX   \n",
       "212026           1829                    MCX                  ORX   \n",
       "212028            717                    BUX                  DEX   \n",
       "212030           2347                    SFX                  DFX   \n",
       "212035           1618                    LAX                  ORX   \n",
       "\n",
       "       record_locator carrier_code scheduled_departure_dtl cabin_code  \\\n",
       "345            G5XXCN           UA                9/3/2022          Y   \n",
       "347            A3XXB1           UA                9/3/2022          J   \n",
       "354            OZXXEJ           UA                9/2/2022          J   \n",
       "359            MXXX5Z           UA                9/3/2022          J   \n",
       "371            AKXXXH           UA               9/20/2022          J   \n",
       "...               ...          ...                     ...        ...   \n",
       "212020         E6XX61           UA               9/28/2022          J   \n",
       "212026         AEXXVC           UA               9/10/2022          J   \n",
       "212028         A9XXWB           UA               9/11/2022          J   \n",
       "212030         F1XXY1           UA               9/11/2022          J   \n",
       "212035         KZXXFK           UA               9/14/2022          Y   \n",
       "\n",
       "       meal_group meal_category meal_short_description meal_description  \\\n",
       "345           NaN           NaN         Sparkling Wine              NaN   \n",
       "347           NaN           NaN  I will decide onboard              NaN   \n",
       "354           NaN           NaN  I will decide onboard              NaN   \n",
       "359           NaN           NaN  I will decide onboard              NaN   \n",
       "371           NaN           NaN  I will decide onboard              NaN   \n",
       "...           ...           ...                    ...              ...   \n",
       "212020        NaN           NaN  I will decide onboard              NaN   \n",
       "212026        NaN           NaN  I will decide onboard              NaN   \n",
       "212028        NaN           NaN  I will decide onboard              NaN   \n",
       "212030        NaN           NaN  I will decide onboard              NaN   \n",
       "212035        NaN           NaN         Sparkling Wine              NaN   \n",
       "\n",
       "       is_entree  pre_order_qty  \n",
       "345          NaN              4  \n",
       "347          NaN              0  \n",
       "354          NaN              0  \n",
       "359          NaN              0  \n",
       "371          NaN              0  \n",
       "...          ...            ...  \n",
       "212020       NaN              0  \n",
       "212026       NaN              0  \n",
       "212028       NaN              0  \n",
       "212030       NaN              0  \n",
       "212035       NaN              1  \n",
       "\n",
       "[20311 rows x 13 columns]"
      ]
     },
     "execution_count": 6,
     "metadata": {},
     "output_type": "execute_result"
    }
   ],
   "source": [
    "df=pd4[pd4['meal_group'].isnull()].copy()\n",
    "df\n"
   ]
  },
  {
   "cell_type": "code",
   "execution_count": 7,
   "id": "4b864e58-2eca-437e-b7f4-9892b16bf252",
   "metadata": {
    "tags": []
   },
   "outputs": [
    {
     "data": {
      "text/plain": [
       "ENTREES HOT                   147826\n",
       "UNITED CATERER OWNED 88-3F     33094\n",
       "LIQUOR                          4167\n",
       "ALCOHOL BEVERAGES               2680\n",
       "BEER                            2120\n",
       "ENTREES COLD                    1796\n",
       "SANDWICHES                        45\n",
       "Name: meal_group, dtype: int64"
      ]
     },
     "execution_count": 7,
     "metadata": {},
     "output_type": "execute_result"
    }
   ],
   "source": [
    "pd4['meal_group'].value_counts()"
   ]
  },
  {
   "cell_type": "code",
   "execution_count": 8,
   "id": "03a08f44-e016-44a6-abb8-eea00b20e8e9",
   "metadata": {
    "tags": []
   },
   "outputs": [
    {
     "data": {
      "text/plain": [
       "BREAKFAST             51771\n",
       "POULTRY               39172\n",
       "SNACKS                33094\n",
       "VEGETARIAN            30189\n",
       "BEEF/VEAL             25158\n",
       "LIQUOR                 4167\n",
       "GENERIC INT WINE A     2680\n",
       "BEER                   2120\n",
       "CHEESE                 1758\n",
       "PASTA                   819\n",
       "SEAFOOD                 488\n",
       "PORK                    112\n",
       "DINNER                   89\n",
       "SANDWICH                 45\n",
       "VARIETY                  38\n",
       "VEGETABLE                26\n",
       "LAMB                      2\n",
       "Name: meal_category, dtype: int64"
      ]
     },
     "execution_count": 8,
     "metadata": {},
     "output_type": "execute_result"
    }
   ],
   "source": [
    "pd4['meal_category'].value_counts()"
   ]
  },
  {
   "cell_type": "code",
   "execution_count": 9,
   "id": "0db61dd7-95c8-420c-8ec2-72f928d15284",
   "metadata": {
    "tags": []
   },
   "outputs": [
    {
     "data": {
      "text/plain": [
       "Za’atar chicken                26970\n",
       "Brioche cheeseburger           23515\n",
       "Scrambled eggs                 19488\n",
       "Impossible™ Meatball Bowl      16702\n",
       "I will decide onboard          13958\n",
       "                               ...  \n",
       "Herb crusted Halibut               2\n",
       "Roasted pollock fish fillet        2\n",
       "Penne pasta                        1\n",
       "Bhuta palak                        1\n",
       "Sauteed chicken breast             1\n",
       "Name: meal_short_description, Length: 103, dtype: int64"
      ]
     },
     "execution_count": 9,
     "metadata": {},
     "output_type": "execute_result"
    }
   ],
   "source": [
    "pd4['meal_short_description'].value_counts()"
   ]
  },
  {
   "cell_type": "code",
   "execution_count": 10,
   "id": "c09bdff6-c760-4f09-82f1-19268978cd5d",
   "metadata": {
    "tags": []
   },
   "outputs": [
    {
     "data": {
      "text/plain": [
       "I will decide onboard                                            13958\n",
       "I do not want to eat                                              1968\n",
       "Sparkling Wine                                                    1867\n",
       "I would like to go directly to sleep                               695\n",
       "Asian Vegetarian Meal                                              462\n",
       "I am a United Club member and will eat there before my flight      421\n",
       "Vegetarian (Non-Dairy) Meal                                        346\n",
       "Gluten-free Meal                                                   333\n",
       "Kosher Meal                                                        261\n",
       "Name: meal_short_description, dtype: int64"
      ]
     },
     "execution_count": 10,
     "metadata": {},
     "output_type": "execute_result"
    }
   ],
   "source": [
    "pd4[pd4['meal_group'].isnull()]['meal_short_description'].value_counts()\n",
    "# 'I will decide onboard' can be termed as inventory data. \n",
    "# 'I do not want to eat' and 'I would like to go directly to sleep' can be termed as No Food. \n",
    "# 'I am a United Club member and will eat there before my flight', can be termed as Club Food.\n",
    "\n"
   ]
  },
  {
   "cell_type": "code",
   "execution_count": 11,
   "id": "8fd0384f-3a1e-401f-9686-085430392a88",
   "metadata": {
    "tags": []
   },
   "outputs": [],
   "source": [
    "for index, row in pd4.iterrows():\n",
    "    if row['meal_short_description'] == 'I will decide onboard':\n",
    "        pd4.loc[index, 'meal_group'] = 'Inventory Food'\n",
    "        pd4.loc[index, 'meal_category'] = 'Inventory Food'\n",
    "        \n",
    "    elif (row['meal_short_description'] == 'I do not want to eat') or (row['meal_short_description'] == 'I would like to go directly to sleep'):\n",
    "        pd4.loc[index, 'meal_group'] = 'No Food'\n",
    "        pd4.loc[index, 'meal_category'] = 'No Food'\n",
    "    \n",
    "    elif row['meal_short_description'] == 'I am a United Club member and will eat there before my flight':\n",
    "        pd4.loc[index, 'meal_group'] = 'Club Food'\n",
    "        pd4.loc[index, 'meal_category'] = 'Club Food'\n",
    "        \n",
    "    elif row['meal_short_description'] == 'Sparkling Wine':\n",
    "        pd4.loc[index, 'meal_group'] = 'ALCOHOL BEVERAGES'\n",
    "        pd4.loc[index, 'meal_category'] = 'GENERIC INT WINE A'\n",
    "    \n",
    "    elif row['meal_short_description'] == 'Asian Vegetarian Meal':\n",
    "        pd4.loc[index, 'meal_group'] = 'ENTREES HOT'\n",
    "        pd4.loc[index, 'meal_category'] = 'VEGETARIAN'\n",
    "    \n",
    "    elif row['meal_short_description'] == 'Vegetarian (Non-Dairy) Meal':\n",
    "        pd4.loc[index, 'meal_group'] = 'ENTREES HOT'\n",
    "        pd4.loc[index, 'meal_category'] = 'VEGETARIAN'\n",
    "    \n",
    "    elif row['meal_short_description'] == 'Gluten-free Meal':\n",
    "        pd4.loc[index, 'meal_group'] = 'ENTREES HOT'\n",
    "        pd4.loc[index, 'meal_category'] = 'Gluten-Free'\n",
    "    \n",
    "    elif row['meal_short_description'] == 'Kosher Meal':\n",
    "        pd4.loc[index, 'meal_group'] = 'ENTREES HOT'\n",
    "        pd4.loc[index, 'meal_category'] = 'Kosher'\n",
    "    \n",
    "    \n",
    "    \n",
    "    \n",
    "    \n",
    "    \n"
   ]
  },
  {
   "cell_type": "code",
   "execution_count": 12,
   "id": "4e2aaddd-da01-43cf-993a-677eb2ac52f8",
   "metadata": {
    "tags": []
   },
   "outputs": [
    {
     "data": {
      "text/plain": [
       "Series([], Name: meal_short_description, dtype: int64)"
      ]
     },
     "execution_count": 12,
     "metadata": {},
     "output_type": "execute_result"
    }
   ],
   "source": [
    "pd4[pd4['meal_group'].isnull()]['meal_short_description'].value_counts()"
   ]
  },
  {
   "cell_type": "code",
   "execution_count": 13,
   "id": "916ed015-9f69-4c29-b1d1-84b96d555ddb",
   "metadata": {
    "tags": []
   },
   "outputs": [
    {
     "data": {
      "text/plain": [
       "flight_number                  0\n",
       "departure_station_code         0\n",
       "arrival_station_code           0\n",
       "record_locator                 0\n",
       "carrier_code                   0\n",
       "scheduled_departure_dtl        0\n",
       "cabin_code                     0\n",
       "meal_group                     0\n",
       "meal_category                  0\n",
       "meal_short_description         0\n",
       "meal_description           74977\n",
       "is_entree                  20311\n",
       "pre_order_qty                  0\n",
       "dtype: int64"
      ]
     },
     "execution_count": 13,
     "metadata": {},
     "output_type": "execute_result"
    }
   ],
   "source": [
    "pd4.isnull().sum()"
   ]
  },
  {
   "cell_type": "code",
   "execution_count": 14,
   "id": "7f6f2465-7a76-426d-b150-43ada260cffe",
   "metadata": {},
   "outputs": [],
   "source": [
    "pd4['meal_description'].fillna('NA',inplace=True)"
   ]
  },
  {
   "cell_type": "code",
   "execution_count": 15,
   "id": "cc2657bc-df72-44a5-aef7-1d013ad904e2",
   "metadata": {
    "tags": []
   },
   "outputs": [
    {
     "data": {
      "text/plain": [
       "flight_number                  0\n",
       "departure_station_code         0\n",
       "arrival_station_code           0\n",
       "record_locator                 0\n",
       "carrier_code                   0\n",
       "scheduled_departure_dtl        0\n",
       "cabin_code                     0\n",
       "meal_group                     0\n",
       "meal_category                  0\n",
       "meal_short_description         0\n",
       "meal_description               0\n",
       "is_entree                  20311\n",
       "pre_order_qty                  0\n",
       "dtype: int64"
      ]
     },
     "execution_count": 15,
     "metadata": {},
     "output_type": "execute_result"
    }
   ],
   "source": [
    "pd4.isnull().sum()"
   ]
  },
  {
   "cell_type": "code",
   "execution_count": 16,
   "id": "52490233-dcb4-46ff-a6f9-ff96bf4cfe38",
   "metadata": {
    "tags": []
   },
   "outputs": [
    {
     "data": {
      "text/plain": [
       "Y    149667\n",
       "N     42061\n",
       "Name: is_entree, dtype: int64"
      ]
     },
     "execution_count": 16,
     "metadata": {},
     "output_type": "execute_result"
    }
   ],
   "source": [
    "pd4['is_entree'].value_counts()"
   ]
  },
  {
   "cell_type": "code",
   "execution_count": 17,
   "id": "d2544502-6ecb-4c99-b800-5a9490c54715",
   "metadata": {
    "tags": []
   },
   "outputs": [
    {
     "data": {
      "text/plain": [
       "meal_group    meal_category\n",
       "ENTREES HOT   BREAKFAST        51771\n",
       "              POULTRY          39172\n",
       "              VEGETARIAN       30189\n",
       "              BEEF/VEAL        25158\n",
       "ENTREES COLD  CHEESE            1758\n",
       "ENTREES HOT   PASTA              819\n",
       "              SEAFOOD            488\n",
       "              PORK               112\n",
       "              DINNER              89\n",
       "SANDWICHES    SANDWICH            45\n",
       "ENTREES COLD  VARIETY             38\n",
       "ENTREES HOT   VEGETABLE           26\n",
       "              LAMB                 2\n",
       "dtype: int64"
      ]
     },
     "execution_count": 17,
     "metadata": {},
     "output_type": "execute_result"
    }
   ],
   "source": [
    "pd4[pd4['is_entree']=='Y'][['meal_group','meal_category']].value_counts()"
   ]
  },
  {
   "cell_type": "code",
   "execution_count": 18,
   "id": "0265c4b7-cc17-4026-89bf-be2ff3db1163",
   "metadata": {
    "tags": []
   },
   "outputs": [],
   "source": [
    "import numpy as np\n",
    "\n",
    "for index, row in pd4.iterrows():\n",
    "    if (pd.isna(row['is_entree']) or row['is_entree'] == '') and (row['meal_group'] in ['ENTREES HOT', 'ENTREES COLD']):\n",
    "        pd4.loc[index, 'is_entree'] = 'Y'\n"
   ]
  },
  {
   "cell_type": "code",
   "execution_count": 19,
   "id": "82ea6ead-d554-44b9-a98f-0a7cecd43bfe",
   "metadata": {
    "tags": []
   },
   "outputs": [
    {
     "data": {
      "text/plain": [
       "flight_number                  0\n",
       "departure_station_code         0\n",
       "arrival_station_code           0\n",
       "record_locator                 0\n",
       "carrier_code                   0\n",
       "scheduled_departure_dtl        0\n",
       "cabin_code                     0\n",
       "meal_group                     0\n",
       "meal_category                  0\n",
       "meal_short_description         0\n",
       "meal_description               0\n",
       "is_entree                  18909\n",
       "pre_order_qty                  0\n",
       "dtype: int64"
      ]
     },
     "execution_count": 19,
     "metadata": {},
     "output_type": "execute_result"
    }
   ],
   "source": [
    "pd4.isnull().sum()"
   ]
  },
  {
   "cell_type": "code",
   "execution_count": 20,
   "id": "4c7dfdc8-2b4f-43fc-b603-ac314e4f46bd",
   "metadata": {
    "tags": []
   },
   "outputs": [],
   "source": [
    "pd4['is_entree'].fillna('N',inplace=True)"
   ]
  },
  {
   "cell_type": "code",
   "execution_count": 21,
   "id": "87588bbf-6ed3-4837-bfeb-4b07c7add8c1",
   "metadata": {
    "tags": []
   },
   "outputs": [
    {
     "data": {
      "text/plain": [
       "flight_number              0\n",
       "departure_station_code     0\n",
       "arrival_station_code       0\n",
       "record_locator             0\n",
       "carrier_code               0\n",
       "scheduled_departure_dtl    0\n",
       "cabin_code                 0\n",
       "meal_group                 0\n",
       "meal_category              0\n",
       "meal_short_description     0\n",
       "meal_description           0\n",
       "is_entree                  0\n",
       "pre_order_qty              0\n",
       "dtype: int64"
      ]
     },
     "execution_count": 21,
     "metadata": {},
     "output_type": "execute_result"
    }
   ],
   "source": [
    "pd4.isnull().sum()"
   ]
  },
  {
   "cell_type": "code",
   "execution_count": 23,
   "id": "cfe3df35-01d4-4ff8-928b-2dffb2d15f04",
   "metadata": {},
   "outputs": [],
   "source": [
    "pd4['scheduled_departure_dtl'] = pd.to_datetime(pd4['scheduled_departure_dtl'], format='%m/%d/%Y')"
   ]
  },
  {
   "cell_type": "code",
   "execution_count": 24,
   "id": "c8721b87-64e3-4f90-9eb5-a9786d3c465c",
   "metadata": {
    "tags": []
   },
   "outputs": [],
   "source": [
    "pd4.to_csv('Inflight Service_Pre order data Clean.csv')"
   ]
  },
  {
   "cell_type": "code",
   "execution_count": null,
   "id": "c9e34cd4-fecc-4671-872a-ea2f6e3e42f4",
   "metadata": {},
   "outputs": [],
   "source": []
  }
 ],
 "metadata": {
  "kernelspec": {
   "display_name": "Python 3 (ipykernel)",
   "language": "python",
   "name": "python3"
  },
  "language_info": {
   "codemirror_mode": {
    "name": "ipython",
    "version": 3
   },
   "file_extension": ".py",
   "mimetype": "text/x-python",
   "name": "python",
   "nbconvert_exporter": "python",
   "pygments_lexer": "ipython3",
   "version": "3.11.4"
  }
 },
 "nbformat": 4,
 "nbformat_minor": 5
}
